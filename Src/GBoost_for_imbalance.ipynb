{
 "cells": [
  {
   "cell_type": "code",
   "execution_count": 4,
   "metadata": {},
   "outputs": [],
   "source": [
    "import numpy as np\n",
    "import pandas as pd\n",
    "\n",
    "from sklearn.model_selection import train_test_split\n",
    "from sklearn.model_selection import StratifiedKFold\n",
    "from sklearn.feature_selection import RFE\n",
    "from sklearn.metrics import recall_score\n",
    "from sklearn.metrics import confusion_matrix\n",
    "# Read dataset\n",
    "# Loading the dataset\n",
    "dataset = pd.read_csv('Data_path')\n",
    "values = list(dataset.columns.values)\n",
    "\n",
    "\n",
    "X = dataset.drop(['Y_label'], axis=1)\n",
    "y = dataset['Y_label']\n",
    "# Train model\n",
    "X_train, X_test, y_train, y_test = train_test_split(X,y,random_state=100,test_size=0.30,shuffle=True,stratify=y)\n",
    "\n"
   ]
  },
  {
   "cell_type": "code",
   "execution_count": 5,
   "metadata": {},
   "outputs": [
    {
     "name": "stderr",
     "output_type": "stream",
     "text": [
      "/home/naman/anaconda3/lib/python3.6/site-packages/ggplot/utils.py:81: FutureWarning: pandas.tslib is deprecated and will be removed in a future version.\n",
      "You can access Timestamp as pandas.Timestamp\n",
      "  pd.tslib.Timestamp,\n",
      "/home/naman/anaconda3/lib/python3.6/site-packages/ggplot/stats/smoothers.py:4: FutureWarning: The pandas.lib module is deprecated and will be removed in a future version. These are private functions and can be accessed from pandas._libs.lib instead\n",
      "  from pandas.lib import Timestamp\n",
      "/home/naman/anaconda3/lib/python3.6/site-packages/statsmodels/compat/pandas.py:56: FutureWarning: The pandas.core.datetools module is deprecated and will be removed in a future version. Please use the pandas.tseries module instead.\n",
      "  from pandas.core import datetools\n"
     ]
    },
    {
     "name": "stdout",
     "output_type": "stream",
     "text": [
      "(20979, 23)\n",
      "(20979,)\n"
     ]
    },
    {
     "name": "stderr",
     "output_type": "stream",
     "text": [
      "/home/naman/anaconda3/lib/python3.6/site-packages/imblearn/utils/deprecation.py:50: DeprecationWarning: 'k' is deprecated from 0.2 and will be removed in 0.4. Use 'k_neighbors' instead.\n",
      "  category=DeprecationWarning)\n"
     ]
    },
    {
     "name": "stdout",
     "output_type": "stream",
     "text": [
      "0.985260840315577\n",
      "[[16256    95]\n",
      " [  387 15964]]\n",
      "[[6352  657]\n",
      " [1250  733]]\n",
      "0.7879225978647687\n"
     ]
    },
    {
     "data": {
      "text/plain": [
       "<matplotlib.figure.Figure at 0x7fe36925a668>"
      ]
     },
     "metadata": {},
     "output_type": "display_data"
    }
   ],
   "source": [
    "###### RESOLVING IMBALANCE\n",
    "from imblearn.over_sampling import SMOTE\n",
    "sm = SMOTE(k=5)\n",
    "X_res, y_res = sm.fit_sample(X_train, y_train)\n",
    "\n",
    "\n",
    "#############   GRADIENTBOOST  & PERFORMANCE#####################\n",
    "\n",
    "from sklearn.metrics import roc_curve\n",
    "from sklearn.metrics import auc\n",
    "from sklearn.metrics import f1_score\n",
    "from ggplot import *\n",
    "\n",
    "from sklearn.ensemble import GradientBoostingClassifier\n",
    "gb=GradientBoostingClassifier(learning_rate= 0.49,n_estimators= 1450)\n",
    "gr=gb.fit(X_res,y_res)\n",
    "print(gr.score(X_res,y_res))\n",
    "print(confusion_matrix(y_res,gr.predict(X_res)))\n",
    "pred_gb = gr.predict(X_test)\n",
    "print(confusion_matrix(y_test,pred_gb))    ### Confusion Matrix - Test\n",
    "print(f1_score(y_test, pred_gb, average='micro'))   ###  F_MEASURE\n",
    "\n",
    "#### ROC CURVE AND AUC\n",
    "\n",
    "import matplotlib.pyplot as plt \n",
    "from sklearn.metrics import roc_curve, auc\n",
    "fpr_gb, tpr_gb, threshold_gb = roc_curve(y_test, pred_gb)\n",
    "roc_auc = auc(fpr_gb, tpr_gb)\n",
    "plt.title('Receiver Operating Characteristic')\n",
    "plt.plot(fpr_gb, tpr_gb, 'g',\n",
    "label='AUC = %0.4f'% roc_auc)\n",
    "plt.legend(loc='lower right')\n",
    "plt.plot([0,1],[0,1],'r--')\n",
    "plt.xlim([0.0,1.0])\n",
    "plt.ylim([0.0,1.0])\n",
    "plt.ylabel('True Positive Rate')\n",
    "plt.xlabel('False Positive Rate')\n",
    "plt.show()"
   ]
  }
 ],
 "metadata": {
  "kernelspec": {
   "display_name": "Python 3",
   "language": "python",
   "name": "python3"
  },
  "language_info": {
   "codemirror_mode": {
    "name": "ipython",
    "version": 3
   },
   "file_extension": ".py",
   "mimetype": "text/x-python",
   "name": "python",
   "nbconvert_exporter": "python",
   "pygments_lexer": "ipython3",
   "version": "3.6.4"
  }
 },
 "nbformat": 4,
 "nbformat_minor": 2
}
