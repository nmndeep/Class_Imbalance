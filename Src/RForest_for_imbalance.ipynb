{
 "cells": [
  {
   "cell_type": "code",
   "execution_count": null,
   "metadata": {},
   "outputs": [],
   "source": [
    "import numpy as np\n",
    "import pandas as pd\n",
    "\n",
    "from sklearn.model_selection import train_test_split\n",
    "from sklearn.model_selection import StratifiedKFold\n",
    "from sklearn.feature_selection import RFE\n",
    "from sklearn.metrics import recall_score\n",
    "from sklearn.metrics import confusion_matrix\n",
    "from sklearn.metrics import roc_curve\n",
    "from sklearn.metrics import auc\n",
    "from sklearn.metrics import f1_score\n",
    "from ggplot import *\n",
    "\n",
    "from sklearn.ensemble import RandomForestClassifier\n",
    "# Read dataset\n",
    "# Loading the dataset\n",
    "dataset = pd.read_csv('Data_path')\n",
    "values = list(dataset.columns.values)\n",
    "\n",
    "\n",
    "X = dataset.drop(['Y_label'], axis=1)\n",
    "y = dataset['Y_label']\n",
    "# Train model\n",
    "X_train, X_test, y_train, y_test = train_test_split(X,y,random_state=100,test_size=0.30,shuffle=True,stratify=y)\n",
    "\n"
   ]
  },
  {
   "cell_type": "code",
   "execution_count": null,
   "metadata": {},
   "outputs": [],
   "source": [
    "###### RESOLVING IMBALANCE\n",
    "from imblearn.over_sampling import SMOTE\n",
    "sm = SMOTE(k=5)\n",
    "X_res, y_res = sm.fit_sample(X_train, y_train)\n",
    "    \n",
    "    \n",
    "    \n",
    "    \n",
    "#############   RandomForest  & PERFORMANCE  #####################\n",
    "\n",
    "rf=RandomForestClassifier(n_estimators=5,max_depth=3,criterion=\"entropy\")\n",
    "gr=rf.fit(X_res,y_res)\n",
    "print(gr.score(X_res,y_res))  \n",
    "print(confusion_matrix(y_res,gr.predict(X_res)))  # Confusion Matrix - Training\n",
    "pred_rf = gr.predict(X_test)\n",
    "print(confusion_matrix(y_test,pred_rf))             # Confusion Matrix - Test\n",
    "print(f1_score(y_test, pred_gb, average='micro'))  \n",
    "  \n",
    "#### ROC CURVE AND AUC\n",
    "\n",
    "import matplotlib.pyplot as plt \n",
    "from sklearn.metrics import roc_curve, auc\n",
    "fpr_rf, tpr_rf, threshold_rf = roc_curve(y_test, pred_rf)\n",
    "roc_auc = auc(fpr_rf, tpr_rf)\n",
    "plt.title('Receiver Operating Characteristic')\n",
    "plt.plot(fpr_rf, tpr_rf, 'g',\n",
    "label='AUC = %0.4f'% roc_auc)\n",
    "plt.legend(loc='lower right')\n",
    "plt.plot([0,1],[0,1],'r--')\n",
    "plt.xlim([-0.1,1.0])\n",
    "plt.ylim([-0.1,1.0])\n",
    "plt.ylabel('True Positive Rate')\n",
    "plt.xlabel('False Positive Rate')\n",
    "plt.show()\n"
   ]
  }
 ],
 "metadata": {
  "kernelspec": {
   "display_name": "Python 3",
   "language": "python",
   "name": "python3"
  },
  "language_info": {
   "codemirror_mode": {
    "name": "ipython",
    "version": 3
   },
   "file_extension": ".py",
   "mimetype": "text/x-python",
   "name": "python",
   "nbconvert_exporter": "python",
   "pygments_lexer": "ipython3",
   "version": "3.6.4"
  }
 },
 "nbformat": 4,
 "nbformat_minor": 2
}
